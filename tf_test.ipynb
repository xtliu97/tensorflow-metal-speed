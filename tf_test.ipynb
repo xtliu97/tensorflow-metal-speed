{
  "nbformat": 4,
  "nbformat_minor": 0,
  "metadata": {
    "colab": {
      "name": "tf_test.ipynb",
      "provenance": [],
      "collapsed_sections": []
    },
    "kernelspec": {
      "name": "python3",
      "display_name": "Python 3"
    },
    "language_info": {
      "name": "python"
    },
    "accelerator": "GPU"
  },
  "cells": [
    {
      "cell_type": "markdown",
      "metadata": {
        "id": "DV8sOEVdR0ZR"
      },
      "source": [
        "## import pkgs"
      ]
    },
    {
      "cell_type": "code",
      "metadata": {
        "id": "qpHp3SUgRx6-"
      },
      "source": [
        "import matplotlib.pyplot as plt\n",
        "import numpy as np\n",
        "import os\n",
        "import tensorflow as tf\n",
        "\n",
        "from tensorflow.keras.preprocessing import image_dataset_from_directory"
      ],
      "execution_count": null,
      "outputs": []
    },
    {
      "cell_type": "markdown",
      "metadata": {
        "id": "axmxwGg7iJpe"
      },
      "source": [
        "global variables"
      ]
    },
    {
      "cell_type": "code",
      "metadata": {
        "id": "QL9z7DPaiHdf"
      },
      "source": [
        "BATCH_SIZE = 32\n",
        "IMG_SIZE = (160, 160)\n",
        "AVAILABLE_MODELS = [\"mobilenet\", \"resnet50\", \"resnet101\", \"resnet152\", \"inception_resnet_v2\"]"
      ],
      "execution_count": null,
      "outputs": []
    },
    {
      "cell_type": "markdown",
      "metadata": {
        "id": "7tEgKy1IiAT0"
      },
      "source": [
        "## data preparation"
      ]
    },
    {
      "cell_type": "code",
      "metadata": {
        "id": "TfmT64_dh_p3"
      },
      "source": [
        "def data_preparation():\n",
        "    #data preparation\n",
        "    _URL = 'https://storage.googleapis.com/mledu-datasets/cats_and_dogs_filtered.zip'\n",
        "    path_to_zip = tf.keras.utils.get_file('cats_and_dogs.zip', origin=_URL, extract=True)\n",
        "    PATH = os.path.join(os.path.dirname(path_to_zip), 'cats_and_dogs_filtered')\n",
        "\n",
        "    train_dir = os.path.join(PATH, 'train')\n",
        "    validation_dir = os.path.join(PATH, 'validation')\n",
        "\n",
        "    train_dataset = image_dataset_from_directory(train_dir,\n",
        "                                                shuffle=True,\n",
        "                                                batch_size=BATCH_SIZE,\n",
        "                                                image_size=IMG_SIZE)\n",
        "\n",
        "    validation_dataset = image_dataset_from_directory(validation_dir,\n",
        "                                                    shuffle=True,\n",
        "                                                    batch_size=BATCH_SIZE,\n",
        "                                                    image_size=IMG_SIZE)\n",
        "\n",
        "    val_batches = tf.data.experimental.cardinality(validation_dataset)\n",
        "    test_dataset = validation_dataset.take(val_batches // 5)\n",
        "    validation_dataset = validation_dataset.skip(val_batches // 5)\n",
        "    print('Number of validation batches: %d' % tf.data.experimental.cardinality(validation_dataset))\n",
        "    print('Number of test batches: %d' % tf.data.experimental.cardinality(test_dataset))\n",
        "\n",
        "    AUTOTUNE = tf.data.AUTOTUNE\n",
        "\n",
        "    train_dataset = train_dataset.prefetch(buffer_size=AUTOTUNE)\n",
        "    validation_dataset = validation_dataset.prefetch(buffer_size=AUTOTUNE)\n",
        "    test_dataset = test_dataset.prefetch(buffer_size=AUTOTUNE)\n",
        "\n",
        "    return train_dataset, validation_dataset, test_dataset"
      ],
      "execution_count": null,
      "outputs": []
    },
    {
      "cell_type": "markdown",
      "metadata": {
        "id": "7qCt9vl0iVR4"
      },
      "source": [
        "## test code"
      ]
    },
    {
      "cell_type": "code",
      "metadata": {
        "id": "ZUkqcZf6iNSL"
      },
      "source": [
        "def main(model_name, dataset):\n",
        "    #unpack dataset\n",
        "    train_dataset, validation_dataset, test_dataset = dataset\n",
        "\n",
        "    print(\"\\n------ {} ------\".format(model_name))\n",
        "    if model_name == \"mobilenet\":\n",
        "        preprocess_input = tf.keras.applications.mobilenet.preprocess_input\n",
        "    elif model_name.startswith(\"resnet\"):\n",
        "        preprocess_input = tf.keras.applications.resnet.preprocess_input\n",
        "    elif model_name.startswith(\"inception\"):\n",
        "        preprocess_input = tf.keras.applications.inception_resnet_v2.preprocess_input\n",
        "    else:\n",
        "        raise NotImplementedError\n",
        "\n",
        "    rescale = tf.keras.layers.experimental.preprocessing.Rescaling(1./127.5, offset= -1)\n",
        "\n",
        "    \"\"\"Figure model here： ResNet50/101/152, MobileNet, InceptionResNetV2, ...\"\"\"\n",
        "\n",
        "    # Create the base model from the pre-trained model\n",
        "    IMG_SHAPE = IMG_SIZE + (3,)\n",
        "\n",
        "    if model_name == \"mobilenet\":\n",
        "        base_model = tf.keras.applications.MobileNet(input_shape=IMG_SHAPE,\n",
        "                                                include_top=False,\n",
        "                                                weights='imagenet')\n",
        "    elif model_name == \"resnet50\":\n",
        "        base_model = tf.keras.applications.ResNet50(input_shape=IMG_SHAPE,\n",
        "                                                include_top=False,\n",
        "                                                weights='imagenet')\n",
        "    elif model_name == \"resnet101\":\n",
        "        base_model = tf.keras.applications.ResNet101(input_shape=IMG_SHAPE,\n",
        "                                                include_top=False,\n",
        "                                                weights='imagenet')\n",
        "    elif model_name == \"resnet152\":\n",
        "        base_model = tf.keras.applications.ResNet152(input_shape=IMG_SHAPE,\n",
        "                                                include_top=False,\n",
        "                                                weights='imagenet')\n",
        "    elif model_name == \"inception_resnet_v2\":\n",
        "        base_model = tf.keras.applications.InceptionResNetV2(input_shape=IMG_SHAPE,\n",
        "                                                include_top=False,\n",
        "                                                weights='imagenet')\n",
        "    else:\n",
        "        raise NotImplementedError\n",
        "\n",
        "    image_batch, label_batch = next(iter(train_dataset))\n",
        "    feature_batch = base_model(image_batch)\n",
        "    #print(\"feature batch shape: \", feature_batch.shape)\n",
        "\n",
        "    base_model.trainable = True\n",
        "\n",
        "    global_average_layer = tf.keras.layers.GlobalAveragePooling2D()\n",
        "    feature_batch_average = global_average_layer(feature_batch)\n",
        "    #print(\"feature batch average shape: \",feature_batch_average.shape)\n",
        "\n",
        "    prediction_layer = tf.keras.layers.Dense(1)\n",
        "    prediction_batch = prediction_layer(feature_batch_average)\n",
        "    #print(\"prediction batch shape: \", prediction_batch.shape)\n",
        "\n",
        "    # build model\n",
        "    inputs = tf.keras.Input(shape=(160, 160, 3))\n",
        "    x = preprocess_input(inputs)\n",
        "    x = base_model(x, training=True)\n",
        "    x = global_average_layer(x)\n",
        "    x = tf.keras.layers.Dropout(0.2)(x)\n",
        "    outputs = prediction_layer(x)\n",
        "    model = tf.keras.Model(inputs, outputs)\n",
        "\n",
        "    base_learning_rate = 0.0001\n",
        "    model.compile(optimizer=tf.keras.optimizers.Adam(learning_rate=base_learning_rate),\n",
        "                loss=tf.keras.losses.BinaryCrossentropy(from_logits=True),\n",
        "                metrics=['accuracy'])\n",
        "\n",
        "    # model.summary()\n",
        "\n",
        "    print(\"trainable variables: \", len(model.trainable_variables))\n",
        "    print('- Val')\n",
        "    loss0, accuracy0 = model.evaluate(validation_dataset)\n",
        "    print('- Train')\n",
        "    history = model.fit(train_dataset,\n",
        "                        epochs = 2,\n",
        "                        validation_data=validation_dataset)"
      ],
      "execution_count": null,
      "outputs": []
    },
    {
      "cell_type": "markdown",
      "metadata": {
        "id": "rf5oDTHyidSc"
      },
      "source": [
        "## run test"
      ]
    },
    {
      "cell_type": "code",
      "metadata": {
        "colab": {
          "base_uri": "https://localhost:8080/"
        },
        "id": "TAjky08oib6_",
        "outputId": "2c32d82a-9de0-4731-baaf-101be6812157"
      },
      "source": [
        "all_dataset = data_preparation()\n",
        "\n",
        "for model in AVAILABLE_MODELS:\n",
        "  main(model, all_dataset)"
      ],
      "execution_count": null,
      "outputs": [
        {
          "output_type": "stream",
          "name": "stdout",
          "text": [
            "Found 2000 files belonging to 2 classes.\n",
            "Found 1000 files belonging to 2 classes.\n",
            "Number of validation batches: 26\n",
            "Number of test batches: 6\n",
            "\n",
            "------ mobilenet ------\n",
            "trainable variables:  83\n",
            "- Val -\n",
            "26/26 [==============================] - 4s 59ms/step - loss: 0.9749 - accuracy: 0.3923\n",
            "- Train -\n",
            "63/63 [==============================] - 17s 203ms/step - loss: 0.2097 - accuracy: 0.8985 - val_loss: 0.0748 - val_accuracy: 0.9765\n",
            "\n",
            "------ resnet50 ------\n",
            "Downloading data from https://storage.googleapis.com/tensorflow/keras-applications/resnet/resnet50_weights_tf_dim_ordering_tf_kernels_notop.h5\n",
            "94773248/94765736 [==============================] - 1s 0us/step\n",
            "94781440/94765736 [==============================] - 1s 0us/step\n",
            "trainable variables:  214\n",
            "- Val -\n",
            "26/26 [==============================] - 7s 154ms/step - loss: 0.8573 - accuracy: 0.4579\n",
            "- Train -\n",
            "63/63 [==============================] - 38s 484ms/step - loss: 0.1827 - accuracy: 0.9230 - val_loss: 0.1367 - val_accuracy: 0.9493\n",
            "\n",
            "------ resnet101 ------\n",
            "Downloading data from https://storage.googleapis.com/tensorflow/keras-applications/resnet/resnet101_weights_tf_dim_ordering_tf_kernels_notop.h5\n",
            "171450368/171446536 [==============================] - 6s 0us/step\n",
            "171458560/171446536 [==============================] - 6s 0us/step\n",
            "trainable variables:  418\n",
            "- Val -\n",
            "26/26 [==============================] - 11s 232ms/step - loss: 0.7232 - accuracy: 0.5594\n",
            "- Train -\n",
            "63/63 [==============================] - 63s 781ms/step - loss: 0.1463 - accuracy: 0.9325 - val_loss: 0.1067 - val_accuracy: 0.9468\n",
            "\n",
            "------ resnet152 ------\n",
            "Downloading data from https://storage.googleapis.com/tensorflow/keras-applications/resnet/resnet152_weights_tf_dim_ordering_tf_kernels_notop.h5\n",
            "234700800/234698864 [==============================] - 9s 0us/step\n",
            "234708992/234698864 [==============================] - 9s 0us/step\n",
            "trainable variables:  622\n",
            "- Val -\n",
            "26/26 [==============================] - 16s 327ms/step - loss: 0.7295 - accuracy: 0.5582\n",
            "- Train -\n",
            "63/63 [==============================] - 91s 1s/step - loss: 0.1527 - accuracy: 0.9370 - val_loss: 0.0903 - val_accuracy: 0.9629\n",
            "\n",
            "------ inception_resnet_v2 ------\n",
            "Downloading data from https://storage.googleapis.com/tensorflow/keras-applications/inception_resnet_v2/inception_resnet_v2_weights_tf_dim_ordering_tf_kernels_notop.h5\n",
            "219062272/219055592 [==============================] - 9s 0us/step\n",
            "219070464/219055592 [==============================] - 9s 0us/step\n",
            "trainable variables:  490\n",
            "- Val -\n",
            "26/26 [==============================] - 16s 274ms/step - loss: 0.8159 - accuracy: 0.4988\n",
            "- Train -\n",
            "63/63 [==============================] - 78s 871ms/step - loss: 0.2264 - accuracy: 0.8870 - val_loss: 0.1343 - val_accuracy: 0.9542\n"
          ]
        }
      ]
    },
    {
      "cell_type": "code",
      "metadata": {
        "id": "-HbU7g0jij6Q"
      },
      "source": [
        ""
      ],
      "execution_count": null,
      "outputs": []
    }
  ]
}
